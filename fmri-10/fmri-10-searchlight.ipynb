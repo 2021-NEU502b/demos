{
 "cells": [
  {
   "cell_type": "markdown",
   "id": "invalid-thirty",
   "metadata": {},
   "source": [
    "# `fmri-10`: Searchlight analysis\n",
    "This demo introduces searchlight analysis using the familiar visual object recognition dataset from [Haxby et al., 2001](https://doi.org/10.1126/science.1063736). The goal of searchlight analysis is to apply spatially localized multivariate pattern analysis (MVPA) throughout the brain ([Kriegeskorte et al., 2006](https://doi.org/10.1073/pnas.0600244103)). This brings us back to the question of *localization*, allowing us to \"search\" throughout the brain for local patterns of activity containing information about our experimental manipulation. In searchlight analysis, we apply MVPA within local neighborhoods of voxels—typically defined as a sphere or cube in volumetric space, or a disk in surface space. These local neighborhoods are iteratively centered at each voxel in the brain and the MVPA result for a given neighborhood is assigned to the center voxel."
   ]
  },
  {
   "cell_type": "code",
   "execution_count": 1,
   "id": "crazy-object",
   "metadata": {},
   "outputs": [],
   "source": [
    "import numpy as np\n",
    "import pandas as pd\n",
    "import matplotlib.pyplot as plt\n",
    "import seaborn as sns"
   ]
  },
  {
   "cell_type": "markdown",
   "id": "computational-landscape",
   "metadata": {},
   "source": [
    "### Visual object recognition dataset\n",
    "We'll start demo-ing RSA with our familiar visual object recognition fMRI dataset from [Haxby et al., 2001](https://doi.org/10.1126/science.1063736). Recall that participants were presented with images from 8 object categories (bottles, cats, chairs, faces, houses, scissors, scrambled images, and shoes) interspersed with periods of fixation (referred to as \"rest\" here). The TR in this study was 2.5 seconds. In a given run, a block of images from each of the 8 categories was presented one time. Each block was ~9 TRs long and contained multiple rapid presentations of images from a single category. A subject received 12 scanning runs. We'll focus on data from one subject for the purposes of this demo."
   ]
  },
  {
   "cell_type": "code",
   "execution_count": 2,
   "id": "comprehensive-punch",
   "metadata": {},
   "outputs": [],
   "source": [
    "# Load the Haxby 2001 dataset\n",
    "from nilearn import datasets\n",
    "from nilearn.image import concat_imgs, index_img, mean_img, new_img_like\n",
    "from nilearn.input_data import NiftiMasker\n",
    "\n",
    "data_dir = '/jukebox/PNI-classes/students/NEU502/2021/nilearn-data'\n",
    "\n",
    "#haxby_dataset = datasets.fetch_haxby()\n",
    "haxby_dataset = datasets.fetch_haxby(data_dir=data_dir)\n",
    "func_file = haxby_dataset.func[0]"
   ]
  },
  {
   "cell_type": "markdown",
   "id": "former-petersburg",
   "metadata": {},
   "source": [
    "Rather than focusing on ventral temporal (VT) cortex, we want to run the searchlight analysis throughout the whole brain. For this example, we'll use Nilearn's `NiftiMasker` to automatically generate a whole-brain mask based on the mean EPI image. (We use this approach because it yields a more conservative mask than the whole-brain mask provided with the dataset.)"
   ]
  },
  {
   "cell_type": "code",
   "execution_count": 3,
   "id": "talented-sacrifice",
   "metadata": {},
   "outputs": [],
   "source": [
    "# Use nilearn to automagically create an EPI brain mask\n",
    "func_mean = mean_img(func_file)\n",
    "\n",
    "masker = NiftiMasker(mask_strategy='epi').fit(func_mean)\n",
    "mask = masker.mask_img_"
   ]
  },
  {
   "cell_type": "markdown",
   "id": "humanitarian-profile",
   "metadata": {},
   "source": [
    "### Runwise GLM\n",
    "Prior to the upcoming searchlight analysis, we perform a first-level GLM to account for confounds and extract regression coefficients (\"betas\") corresponding to each stimulus category. For searchlight classification analysis, we'll perform separate GLMs for each scanning run (runwise GLM), yielding 8 betas corresponding to the 8 stimulus categories for each run. We perform a runwise GLM so that we can cross-validate across runs in the searchlight classification analysis."
   ]
  },
  {
   "cell_type": "code",
   "execution_count": 4,
   "id": "considered-bruce",
   "metadata": {},
   "outputs": [],
   "source": [
    "# Load in session metadata as pandas DataFrame\n",
    "session = pd.read_csv(haxby_dataset.session_target[0], sep=\" \")\n",
    "\n",
    "# Extract stimuli and run labels for this subject\n",
    "stimuli, runs = session['labels'].values, session['chunks'].values\n",
    "\n",
    "# Get list of unique stimulus categories (excluding rest)\n",
    "categories = np.array([c for c in np.unique(stimuli) if c != 'rest'])"
   ]
  },
  {
   "cell_type": "code",
   "execution_count": 5,
   "id": "qualified-colors",
   "metadata": {},
   "outputs": [
    {
     "name": "stdout",
     "output_type": "stream",
     "text": [
      "Indexed run 1 functional image\n",
      "Indexed run 2 functional image\n",
      "Indexed run 3 functional image\n",
      "Indexed run 4 functional image\n",
      "Indexed run 5 functional image\n",
      "Indexed run 6 functional image\n",
      "Indexed run 7 functional image\n",
      "Indexed run 8 functional image\n",
      "Indexed run 9 functional image\n",
      "Indexed run 10 functional image\n",
      "Indexed run 11 functional image\n",
      "Indexed run 12 functional image\n"
     ]
    }
   ],
   "source": [
    "# Split functional image according to runs\n",
    "func_runs = []\n",
    "for run in np.unique(runs):\n",
    "    func_runs.append(index_img(func_file, runs == run))\n",
    "    print(f\"Indexed run {run + 1} functional image\")"
   ]
  },
  {
   "cell_type": "code",
   "execution_count": 6,
   "id": "bright-repeat",
   "metadata": {},
   "outputs": [
    {
     "name": "stderr",
     "output_type": "stream",
     "text": [
      "/jukebox/hasson/snastase/miniconda3/envs/neu502b/lib/python3.7/site-packages/nilearn/glm/__init__.py:56: FutureWarning: The nilearn.glm module is experimental. It may change in any future release of Nilearn.\n",
      "  'It may change in any future release of Nilearn.', FutureWarning)\n"
     ]
    }
   ],
   "source": [
    "# Build first-level GLM for each run\n",
    "from nilearn.glm.first_level import (make_first_level_design_matrix,\n",
    "                                     FirstLevelModel)\n",
    "\n",
    "# Set parameters for your design matrix\n",
    "tr = 2.5\n",
    "hrf_model = 'spm'\n",
    "drift_model = 'Cosine'\n",
    "high_pass = 1/128\n",
    "\n",
    "# Build a design matrix for each run\n",
    "design_matrices = []\n",
    "for run in np.unique(runs):\n",
    "    stimuli_run = stimuli[runs == run]\n",
    "    n_trs = len(stimuli_run)\n",
    "    onsets = tr * np.arange(n_trs)\n",
    "    duration = np.full(n_trs, tr)\n",
    "    \n",
    "    events_all = pd.DataFrame(\n",
    "        {'onset': onsets, 'trial_type': stimuli_run, 'duration': duration})\n",
    "    events = events_all[events_all['trial_type'] != 'rest']\n",
    "    \n",
    "    design_matrix = make_first_level_design_matrix(\n",
    "        onsets,\n",
    "        events,\n",
    "        hrf_model=hrf_model,\n",
    "        drift_model=drift_model,\n",
    "        high_pass=high_pass)\n",
    "    \n",
    "    design_matrices.append(design_matrix)"
   ]
  },
  {
   "cell_type": "code",
   "execution_count": 7,
   "id": "armed-freedom",
   "metadata": {},
   "outputs": [
    {
     "name": "stdout",
     "output_type": "stream",
     "text": [
      "Finished fitting GLM for run 1\n",
      "Finished fitting GLM for run 2\n",
      "Finished fitting GLM for run 3\n",
      "Finished fitting GLM for run 4\n",
      "Finished fitting GLM for run 5\n",
      "Finished fitting GLM for run 6\n",
      "Finished fitting GLM for run 7\n",
      "Finished fitting GLM for run 8\n",
      "Finished fitting GLM for run 9\n",
      "Finished fitting GLM for run 10\n",
      "Finished fitting GLM for run 11\n",
      "Finished fitting GLM for run 12\n"
     ]
    }
   ],
   "source": [
    "# Fit runwise GLM separately for each runs\n",
    "glm_rw = FirstLevelModel(t_r=tr,\n",
    "                         mask_img=mask,\n",
    "                         standardize=True,\n",
    "                         noise_model='ar1')\n",
    "\n",
    "maps_rw = []\n",
    "categories_rw = []\n",
    "runs_rw = []\n",
    "for run, (func_run, design_matrix) in enumerate(zip(func_runs, design_matrices)):\n",
    "    glm_rw.fit(func_run, design_matrices=design_matrix)\n",
    "\n",
    "    # Collate contrast maps for VT\n",
    "    for category in categories:\n",
    "        maps_rw.append(glm_rw.compute_contrast(category))\n",
    "        categories_rw.append(category)\n",
    "        runs_rw.append(run)\n",
    "        \n",
    "    print(f\"Finished fitting GLM for run {run + 1}\")\n",
    "    \n",
    "# Concatenate images for separate runs\n",
    "maps_rw = concat_imgs(maps_rw)"
   ]
  },
  {
   "cell_type": "markdown",
   "id": "constant-freedom",
   "metadata": {},
   "source": [
    "### Searchlight classification analysis\n",
    "We now supply the whole-brain beta maps and accompanying category labels to a searchlight classification analysis. We first specify a very simple 3-fold cross-validation scheme to reduce computation time. We define our searchlight with a 5 mm radius (corresponding to two 2.5 mm voxels) and run the searchlight within the automated whole-brain mask. Within each searchlight, we'll deploy a support vector machine (SVM) classifier with default parameters using Nilearn's `'svc'` shortcut. (Note that this will take several minutes to run!)"
   ]
  },
  {
   "cell_type": "code",
   "execution_count": 8,
   "id": "brown-battlefield",
   "metadata": {},
   "outputs": [
    {
     "name": "stderr",
     "output_type": "stream",
     "text": [
      "[Parallel(n_jobs=8)]: Using backend LokyBackend with 8 concurrent workers.\n",
      "[Parallel(n_jobs=8)]: Done   2 out of   8 | elapsed:  1.9min remaining:  5.6min\n",
      "[Parallel(n_jobs=8)]: Done   8 out of   8 | elapsed:  2.1min finished\n"
     ]
    },
    {
     "data": {
      "text/plain": [
       "SearchLight(cv=KFold(n_splits=3, random_state=None, shuffle=False),\n",
       "            mask_img=<nibabel.nifti1.Nifti1Image object at 0x7fd32c14a910>,\n",
       "            n_jobs=8,\n",
       "            process_mask_img=<nibabel.nifti1.Nifti1Image object at 0x7fd32c14a910>,\n",
       "            radius=5.0, verbose=1)"
      ]
     },
     "execution_count": 8,
     "metadata": {},
     "output_type": "execute_result"
    }
   ],
   "source": [
    "# Set up simple cross-validation scheme\n",
    "from sklearn.model_selection import KFold\n",
    "cv = KFold(n_splits=3)\n",
    "\n",
    "# Set up searchlight parameters\n",
    "from nilearn.decoding import SearchLight\n",
    "\n",
    "n_jobs = 8\n",
    "radius = 5.0\n",
    "searchlight = SearchLight(mask,\n",
    "                          process_mask_img=mask,\n",
    "                          radius=radius,\n",
    "                          estimator='svc',\n",
    "                          n_jobs=n_jobs,\n",
    "                          verbose=1, cv=cv)\n",
    "\n",
    "# Fit the searchlight (this takes time!)\n",
    "searchlight.fit(maps_rw, categories_rw)"
   ]
  },
  {
   "cell_type": "code",
   "execution_count": 9,
   "id": "sufficient-infection",
   "metadata": {},
   "outputs": [],
   "source": [
    "# Convert searchlight output to NIfTI image and save\n",
    "import nibabel as nib\n",
    "\n",
    "searchlight_img = new_img_like(func_mean, searchlight.scores_)\n",
    "nib.save(searchlight_img, 'haxby_searchlight_svc.nii.gz')"
   ]
  },
  {
   "cell_type": "code",
   "execution_count": 10,
   "id": "surrounded-impression",
   "metadata": {},
   "outputs": [
    {
     "data": {
      "image/png": "[encoded data removed]",
      "text/plain": [
       "<Figure size 525.6x187.2 with 5 Axes>"
      ]
     },
     "metadata": {},
     "output_type": "display_data"
    }
   ],
   "source": [
    "# Plot searchlight classification\n",
    "from nilearn.plotting import plot_stat_map\n",
    "\n",
    "cut_coords = (30, -30, -5)\n",
    "\n",
    "plot_stat_map(searchlight_img, func_mean,\n",
    "              cut_coords=cut_coords);"
   ]
  },
  {
   "cell_type": "code",
   "execution_count": 11,
   "id": "eastern-chase",
   "metadata": {},
   "outputs": [
    {
     "name": "stdout",
     "output_type": "stream",
     "text": [
      "Best searchlight accuracy: 0.333\n"
     ]
    }
   ],
   "source": [
    "# Get coordinate of best-performing searchlight\n",
    "max_sl = np.unravel_index(np.argmax(searchlight_img.get_fdata()),\n",
    "                          searchlight_img.shape)\n",
    "\n",
    "print(\"Best searchlight accuracy: \"\n",
    "      f\"{searchlight_img.get_fdata()[max_sl]:.3f}\")"
   ]
  },
  {
   "cell_type": "markdown",
   "id": "imposed-modification",
   "metadata": {},
   "source": [
    "#### References\n",
    "* Haxby, J. V., Gobbini, M. I., Furey, M. L., Ishai, A., Schouten, J. L., & Pietrini, P. (2001). Distributed and overlapping representations of faces and objects in ventral temporal cortex. *Science*, *293*(5539), 2425–2430. https://doi.org/10.1126/science.1063736\n",
    "\n",
    "* Kriegeskorte, N., Goebel, R., & Bandettini, P. (2006). Information-based functional brain mapping. *Proceedings of the National Academy of Sciences of the United States of America*, *103*(10), 3863-3868. https://doi.org/10.1073/pnas.0600244103"
   ]
  }
 ],
 "metadata": {
  "kernelspec": {
   "display_name": "Python 3",
   "language": "python",
   "name": "python3"
  },
  "language_info": {
   "codemirror_mode": {
    "name": "ipython",
    "version": 3
   },
   "file_extension": ".py",
   "mimetype": "text/x-python",
   "name": "python",
   "nbconvert_exporter": "python",
   "pygments_lexer": "ipython3",
   "version": "3.7.9"
  }
 },
 "nbformat": 4,
 "nbformat_minor": 5
}
